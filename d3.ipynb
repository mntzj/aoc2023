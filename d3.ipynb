{
 "cells": [
  {
   "cell_type": "code",
   "execution_count": 21,
   "metadata": {},
   "outputs": [],
   "source": [
    "import re\n",
    "input_path = \"./d3/input-d3.txt\"\n",
    "with open(input_path, \"r\") as file:\n",
    "    rows = file.read().split('\\n')\n",
    "\n",
    "n_re=r'\\D?(\\d+)\\D?'\n",
    "numbers_matchs=map(lambda r: re.finditer(n_re,str(r)), rows)\n",
    "numbers=[[{'start':s.start(1),'end':s.end(1),'number':s.group(1),'ispart':False} for s in row] for row in list(numbers_matchs)] \n",
    "\n",
    "n_re=r'[^0-9.]'\n",
    "symbols_matches=map(lambda r: re.finditer(n_re,str(r)), rows)\n",
    "symbols=[[s.start() for s in row] for row in list(symbols_matches)] \n",
    "\n",
    "def _adj(position,ls):\n",
    "    ispart= (1 in [abs(position-x) for x in ls]) or (0 in [position-x for x in ls])\n",
    "    return ispart\n",
    "\n",
    "def _ispart_inrow(number,symlist):\n",
    "    start=number['start']\n",
    "    end=number['end']\n",
    "    return _adj(start,symlist) or _adj(end,symlist)\n",
    "\n",
    "def ispart(number, row):\n",
    "    number['ispart'] = _ispart_inrow(number,symbols[row]) or _ispart_inrow(number,symbols[row+1]) or _ispart_inrow(number,symbols[row-1])\n",
    "    return number\n",
    "\n",
    "updated=[ispart(n, i) for i, row in enumerate(numbers) for k, n in enumerate(row)]\n",
    "\n",
    "part_1=sum([int(v['number']) for v in updated if v['ispart']])\n",
    "print(part_1)"
   ]
  }
 ],
 "metadata": {
  "kernelspec": {
   "display_name": "Python 3",
   "language": "python",
   "name": "python3"
  },
  "language_info": {
   "codemirror_mode": {
    "name": "ipython",
    "version": 3
   },
   "file_extension": ".py",
   "mimetype": "text/x-python",
   "name": "python",
   "nbconvert_exporter": "python",
   "pygments_lexer": "ipython3",
   "version": "3.10.11"
  }
 },
 "nbformat": 4,
 "nbformat_minor": 2
}
